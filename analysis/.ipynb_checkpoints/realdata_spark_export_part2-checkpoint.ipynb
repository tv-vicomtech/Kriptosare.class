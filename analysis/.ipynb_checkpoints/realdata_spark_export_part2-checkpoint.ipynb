{
 "cells": [
  {
   "cell_type": "markdown",
   "metadata": {},
   "source": [
    "### Import settings"
   ]
  },
  {
   "cell_type": "code",
   "execution_count": 1,
   "metadata": {},
   "outputs": [],
   "source": [
    "import os\n",
    "os.environ['PYSPARK_SUBMIT_ARGS'] = 'pyspark-shell'"
   ]
  },
  {
   "cell_type": "code",
   "execution_count": 2,
   "metadata": {},
   "outputs": [],
   "source": [
    "import findspark\n",
    "findspark.init('/opt/spark')\n",
    "from pyspark import SparkContext,SparkConf\n",
    "conf = (SparkConf()\n",
    "         .setMaster(\"spark://10.200.5.39:7077\")\n",
    "         .set(\"spark.executor.memory\",\"30g\")\n",
    "        .set(\"spark.network.timeout\", \"600s\")\n",
    "        .set(\"spark.sql.autoBroadcastJoinThreshold\", \"-1\")\n",
    "         .setAppName(\"exportapp2\"))\n",
    "sc = SparkContext(conf=conf)"
   ]
  },
  {
   "cell_type": "code",
   "execution_count": 3,
   "metadata": {},
   "outputs": [],
   "source": [
    "import pyspark\n",
    "import binascii\n",
    "from pyspark.sql import SQLContext\n",
    "from functools import reduce\n",
    "import pygraphviz\n",
    "import pyspark.sql.functions as f\n",
    "from IPython.display import Image\n",
    "from networkx.drawing.nx_pydot import write_dot\n",
    "sqlContext = SQLContext(sc)"
   ]
  },
  {
   "cell_type": "code",
   "execution_count": 4,
   "metadata": {},
   "outputs": [],
   "source": [
    "path = \"hdfs://10.200.5.25:9001/user/titanium/\"\n",
    "pathDir=\"part1\""
   ]
  },
  {
   "cell_type": "code",
   "execution_count": 5,
   "metadata": {},
   "outputs": [
    {
     "ename": "KeyboardInterrupt",
     "evalue": "",
     "output_type": "error",
     "traceback": [
      "\u001b[0;31m---------------------------------------------------------------------------\u001b[0m",
      "\u001b[0;31mKeyboardInterrupt\u001b[0m                         Traceback (most recent call last)",
      "\u001b[0;32m<ipython-input-5-8e9ebd5d84ef>\u001b[0m in \u001b[0;36m<module>\u001b[0;34m\u001b[0m\n\u001b[1;32m      5\u001b[0m              \u001b[0;34m.\u001b[0m\u001b[0moption\u001b[0m\u001b[0;34m(\u001b[0m\u001b[0;34m\"header\"\u001b[0m\u001b[0;34m,\u001b[0m \u001b[0;34m\"true\"\u001b[0m\u001b[0;34m)\u001b[0m\u001b[0;31m\\\u001b[0m\u001b[0;34m\u001b[0m\u001b[0m\n\u001b[1;32m      6\u001b[0m              \u001b[0;34m.\u001b[0m\u001b[0moption\u001b[0m\u001b[0;34m(\u001b[0m\u001b[0;34m\"inferSchema\"\u001b[0m\u001b[0;34m,\u001b[0m \u001b[0;34m\"true\"\u001b[0m\u001b[0;34m)\u001b[0m\u001b[0;31m\\\u001b[0m\u001b[0;34m\u001b[0m\u001b[0m\n\u001b[0;32m----> 7\u001b[0;31m              \u001b[0;34m.\u001b[0m\u001b[0mload\u001b[0m\u001b[0;34m(\u001b[0m\u001b[0mpath\u001b[0m\u001b[0;34m+\u001b[0m\u001b[0;34m\"transaction/part5\"\u001b[0m\u001b[0;34m)\u001b[0m\u001b[0;34m\u001b[0m\u001b[0m\n\u001b[0m",
      "\u001b[0;32m/opt/spark/python/pyspark/sql/readwriter.py\u001b[0m in \u001b[0;36mload\u001b[0;34m(self, path, format, schema, **options)\u001b[0m\n\u001b[1;32m    164\u001b[0m         \u001b[0mself\u001b[0m\u001b[0;34m.\u001b[0m\u001b[0moptions\u001b[0m\u001b[0;34m(\u001b[0m\u001b[0;34m**\u001b[0m\u001b[0moptions\u001b[0m\u001b[0;34m)\u001b[0m\u001b[0;34m\u001b[0m\u001b[0m\n\u001b[1;32m    165\u001b[0m         \u001b[0;32mif\u001b[0m \u001b[0misinstance\u001b[0m\u001b[0;34m(\u001b[0m\u001b[0mpath\u001b[0m\u001b[0;34m,\u001b[0m \u001b[0mbasestring\u001b[0m\u001b[0;34m)\u001b[0m\u001b[0;34m:\u001b[0m\u001b[0;34m\u001b[0m\u001b[0m\n\u001b[0;32m--> 166\u001b[0;31m             \u001b[0;32mreturn\u001b[0m \u001b[0mself\u001b[0m\u001b[0;34m.\u001b[0m\u001b[0m_df\u001b[0m\u001b[0;34m(\u001b[0m\u001b[0mself\u001b[0m\u001b[0;34m.\u001b[0m\u001b[0m_jreader\u001b[0m\u001b[0;34m.\u001b[0m\u001b[0mload\u001b[0m\u001b[0;34m(\u001b[0m\u001b[0mpath\u001b[0m\u001b[0;34m)\u001b[0m\u001b[0;34m)\u001b[0m\u001b[0;34m\u001b[0m\u001b[0m\n\u001b[0m\u001b[1;32m    167\u001b[0m         \u001b[0;32melif\u001b[0m \u001b[0mpath\u001b[0m \u001b[0;32mis\u001b[0m \u001b[0;32mnot\u001b[0m \u001b[0;32mNone\u001b[0m\u001b[0;34m:\u001b[0m\u001b[0;34m\u001b[0m\u001b[0m\n\u001b[1;32m    168\u001b[0m             \u001b[0;32mif\u001b[0m \u001b[0mtype\u001b[0m\u001b[0;34m(\u001b[0m\u001b[0mpath\u001b[0m\u001b[0;34m)\u001b[0m \u001b[0;34m!=\u001b[0m \u001b[0mlist\u001b[0m\u001b[0;34m:\u001b[0m\u001b[0;34m\u001b[0m\u001b[0m\n",
      "\u001b[0;32m/opt/spark/python/lib/py4j-0.10.7-src.zip/py4j/java_gateway.py\u001b[0m in \u001b[0;36m__call__\u001b[0;34m(self, *args)\u001b[0m\n\u001b[1;32m   1253\u001b[0m             \u001b[0mproto\u001b[0m\u001b[0;34m.\u001b[0m\u001b[0mEND_COMMAND_PART\u001b[0m\u001b[0;34m\u001b[0m\u001b[0m\n\u001b[1;32m   1254\u001b[0m \u001b[0;34m\u001b[0m\u001b[0m\n\u001b[0;32m-> 1255\u001b[0;31m         \u001b[0manswer\u001b[0m \u001b[0;34m=\u001b[0m \u001b[0mself\u001b[0m\u001b[0;34m.\u001b[0m\u001b[0mgateway_client\u001b[0m\u001b[0;34m.\u001b[0m\u001b[0msend_command\u001b[0m\u001b[0;34m(\u001b[0m\u001b[0mcommand\u001b[0m\u001b[0;34m)\u001b[0m\u001b[0;34m\u001b[0m\u001b[0m\n\u001b[0m\u001b[1;32m   1256\u001b[0m         return_value = get_return_value(\n\u001b[1;32m   1257\u001b[0m             answer, self.gateway_client, self.target_id, self.name)\n",
      "\u001b[0;32m/opt/spark/python/lib/py4j-0.10.7-src.zip/py4j/java_gateway.py\u001b[0m in \u001b[0;36msend_command\u001b[0;34m(self, command, retry, binary)\u001b[0m\n\u001b[1;32m    983\u001b[0m         \u001b[0mconnection\u001b[0m \u001b[0;34m=\u001b[0m \u001b[0mself\u001b[0m\u001b[0;34m.\u001b[0m\u001b[0m_get_connection\u001b[0m\u001b[0;34m(\u001b[0m\u001b[0;34m)\u001b[0m\u001b[0;34m\u001b[0m\u001b[0m\n\u001b[1;32m    984\u001b[0m         \u001b[0;32mtry\u001b[0m\u001b[0;34m:\u001b[0m\u001b[0;34m\u001b[0m\u001b[0m\n\u001b[0;32m--> 985\u001b[0;31m             \u001b[0mresponse\u001b[0m \u001b[0;34m=\u001b[0m \u001b[0mconnection\u001b[0m\u001b[0;34m.\u001b[0m\u001b[0msend_command\u001b[0m\u001b[0;34m(\u001b[0m\u001b[0mcommand\u001b[0m\u001b[0;34m)\u001b[0m\u001b[0;34m\u001b[0m\u001b[0m\n\u001b[0m\u001b[1;32m    986\u001b[0m             \u001b[0;32mif\u001b[0m \u001b[0mbinary\u001b[0m\u001b[0;34m:\u001b[0m\u001b[0;34m\u001b[0m\u001b[0m\n\u001b[1;32m    987\u001b[0m                 \u001b[0;32mreturn\u001b[0m \u001b[0mresponse\u001b[0m\u001b[0;34m,\u001b[0m \u001b[0mself\u001b[0m\u001b[0;34m.\u001b[0m\u001b[0m_create_connection_guard\u001b[0m\u001b[0;34m(\u001b[0m\u001b[0mconnection\u001b[0m\u001b[0;34m)\u001b[0m\u001b[0;34m\u001b[0m\u001b[0m\n",
      "\u001b[0;32m/opt/spark/python/lib/py4j-0.10.7-src.zip/py4j/java_gateway.py\u001b[0m in \u001b[0;36msend_command\u001b[0;34m(self, command)\u001b[0m\n\u001b[1;32m   1150\u001b[0m \u001b[0;34m\u001b[0m\u001b[0m\n\u001b[1;32m   1151\u001b[0m         \u001b[0;32mtry\u001b[0m\u001b[0;34m:\u001b[0m\u001b[0;34m\u001b[0m\u001b[0m\n\u001b[0;32m-> 1152\u001b[0;31m             \u001b[0manswer\u001b[0m \u001b[0;34m=\u001b[0m \u001b[0msmart_decode\u001b[0m\u001b[0;34m(\u001b[0m\u001b[0mself\u001b[0m\u001b[0;34m.\u001b[0m\u001b[0mstream\u001b[0m\u001b[0;34m.\u001b[0m\u001b[0mreadline\u001b[0m\u001b[0;34m(\u001b[0m\u001b[0;34m)\u001b[0m\u001b[0;34m[\u001b[0m\u001b[0;34m:\u001b[0m\u001b[0;34m-\u001b[0m\u001b[0;36m1\u001b[0m\u001b[0;34m]\u001b[0m\u001b[0;34m)\u001b[0m\u001b[0;34m\u001b[0m\u001b[0m\n\u001b[0m\u001b[1;32m   1153\u001b[0m             \u001b[0mlogger\u001b[0m\u001b[0;34m.\u001b[0m\u001b[0mdebug\u001b[0m\u001b[0;34m(\u001b[0m\u001b[0;34m\"Answer received: {0}\"\u001b[0m\u001b[0;34m.\u001b[0m\u001b[0mformat\u001b[0m\u001b[0;34m(\u001b[0m\u001b[0manswer\u001b[0m\u001b[0;34m)\u001b[0m\u001b[0;34m)\u001b[0m\u001b[0;34m\u001b[0m\u001b[0m\n\u001b[1;32m   1154\u001b[0m             \u001b[0;32mif\u001b[0m \u001b[0manswer\u001b[0m\u001b[0;34m.\u001b[0m\u001b[0mstartswith\u001b[0m\u001b[0;34m(\u001b[0m\u001b[0mproto\u001b[0m\u001b[0;34m.\u001b[0m\u001b[0mRETURN_MESSAGE\u001b[0m\u001b[0;34m)\u001b[0m\u001b[0;34m:\u001b[0m\u001b[0;34m\u001b[0m\u001b[0m\n",
      "\u001b[0;32m/usr/lib/python3.5/socket.py\u001b[0m in \u001b[0;36mreadinto\u001b[0;34m(self, b)\u001b[0m\n\u001b[1;32m    573\u001b[0m         \u001b[0;32mwhile\u001b[0m \u001b[0;32mTrue\u001b[0m\u001b[0;34m:\u001b[0m\u001b[0;34m\u001b[0m\u001b[0m\n\u001b[1;32m    574\u001b[0m             \u001b[0;32mtry\u001b[0m\u001b[0;34m:\u001b[0m\u001b[0;34m\u001b[0m\u001b[0m\n\u001b[0;32m--> 575\u001b[0;31m                 \u001b[0;32mreturn\u001b[0m \u001b[0mself\u001b[0m\u001b[0;34m.\u001b[0m\u001b[0m_sock\u001b[0m\u001b[0;34m.\u001b[0m\u001b[0mrecv_into\u001b[0m\u001b[0;34m(\u001b[0m\u001b[0mb\u001b[0m\u001b[0;34m)\u001b[0m\u001b[0;34m\u001b[0m\u001b[0m\n\u001b[0m\u001b[1;32m    576\u001b[0m             \u001b[0;32mexcept\u001b[0m \u001b[0mtimeout\u001b[0m\u001b[0;34m:\u001b[0m\u001b[0;34m\u001b[0m\u001b[0m\n\u001b[1;32m    577\u001b[0m                 \u001b[0mself\u001b[0m\u001b[0;34m.\u001b[0m\u001b[0m_timeout_occurred\u001b[0m \u001b[0;34m=\u001b[0m \u001b[0;32mTrue\u001b[0m\u001b[0;34m\u001b[0m\u001b[0m\n",
      "\u001b[0;31mKeyboardInterrupt\u001b[0m: "
     ]
    }
   ],
   "source": [
    "###            LOAD TRANSACTIONS\n",
    "#############################################################\n",
    "df_transactions = sqlContext.read\\\n",
    "             .format(\"csv\")\\\n",
    "             .option(\"header\", \"true\")\\\n",
    "             .option(\"inferSchema\", \"true\")\\\n",
    "             .load(path+\"transaction/\"+pathDir)\n"
   ]
  },
  {
   "cell_type": "code",
   "execution_count": null,
   "metadata": {},
   "outputs": [],
   "source": [
    "#############################################################\n",
    "#            LOAD INPUTS ADDRESSES TAG\n",
    "#############################################################\n",
    "df_input_addresses_tag_reduced = sqlContext.read\\\n",
    "             .format(\"csv\")\\\n",
    "             .option(\"header\", \"true\")\\\n",
    "             .option(\"inferSchema\", \"true\")\\\n",
    "             .load(path+pathDir+\"/df_input_addresses_tag\")"
   ]
  },
  {
   "cell_type": "code",
   "execution_count": null,
   "metadata": {},
   "outputs": [],
   "source": [
    "#############################################################\n",
    "#            LOAD OUTPUT ADDRESSES TAG\n",
    "#############################################################\n",
    "df_output_addresses_tag_reduced = sqlContext.read\\\n",
    "             .format(\"csv\")\\\n",
    "             .option(\"header\", \"true\")\\\n",
    "             .option(\"inferSchema\", \"true\")\\\n",
    "             .load(path+pathDir+\"/df_output_addresses_tag\")"
   ]
  },
  {
   "cell_type": "code",
   "execution_count": null,
   "metadata": {},
   "outputs": [],
   "source": [
    "motifs_11 = sqlContext.read\\\n",
    " .format(\"csv\")\\\n",
    " .option(\"header\", \"true\")\\\n",
    " .option(\"inferSchema\", \"true\")\\\n",
    ".load(path+pathDir+\"/motifs_1_part1\")"
   ]
  },
  {
   "cell_type": "code",
   "execution_count": null,
   "metadata": {},
   "outputs": [],
   "source": [
    "motifs_12 = sqlContext.read\\\n",
    " .format(\"csv\")\\\n",
    " .option(\"header\", \"true\")\\\n",
    " .option(\"inferSchema\", \"true\")\\\n",
    ".load(path+pathDir+\"/motifs_1_part2\")"
   ]
  },
  {
   "cell_type": "code",
   "execution_count": null,
   "metadata": {},
   "outputs": [],
   "source": [
    "motifs_1 = motifs_11.union(motifs_12)"
   ]
  },
  {
   "cell_type": "code",
   "execution_count": null,
   "metadata": {},
   "outputs": [],
   "source": [
    "df_output_addresses_tag_reduced=df_output_addresses_tag_reduced1.union(df_output_addresses_tag_reduced2)"
   ]
  },
  {
   "cell_type": "code",
   "execution_count": null,
   "metadata": {},
   "outputs": [],
   "source": [
    "df_transactions=df_transactions.where(f.col(\"height\")<=375000)\n",
    "#df_input_addresses_tag_reduced=df_input_addresses_tag_reduced.where(f.col(\"height\")<325000)"
   ]
  },
  {
   "cell_type": "code",
   "execution_count": null,
   "metadata": {},
   "outputs": [],
   "source": [
    "#############################################################\n",
    "#   Aggregate input and output labeled dataframe for distinct address\n",
    "#############################################################\n",
    "\n",
    "df_output_addresses_tag_grpby_addr=df_output_addresses_tag_reduced.groupby(df_output_addresses_tag_reduced.address)\\\n",
    ".agg(f.count('address').alias(\"count\"),(f.sum('amount')).alias(\"totamount\"),f.first(f.col(\"user\")).alias(\"user\"))\n",
    "df_input_addresses_tag_grpby_addr=df_input_addresses_tag_reduced.groupby(df_input_addresses_tag_reduced.address)\\\n",
    ".agg(f.count('address').alias(\"count\"),(f.sum('amount')).alias(\"totamount\"),f.first(f.col(\"user\")).alias(\"user\"))\n",
    "\n",
    "df_output_addresses_tag_grpby_addr =df_output_addresses_tag_grpby_addr.withColumn(\"totamount\",f.round(f.col(\"totamount\"))/100000000)\n",
    "df_input_addresses_tag_grpby_addr =df_input_addresses_tag_grpby_addr.withColumn(\"totamount\",f.round(f.col(\"totamount\"))/100000000)"
   ]
  },
  {
   "cell_type": "code",
   "execution_count": null,
   "metadata": {},
   "outputs": [],
   "source": [
    "#############################################################\n",
    "# Aggregate input and output labeled dataframe for distinct user\n",
    "#############################################################\n",
    "\n",
    "df_output_addresses_tag_grpby_user=df_output_addresses_tag_grpby_addr.groupby(df_output_addresses_tag_grpby_addr.user)\\\n",
    ".agg(f.count('address').alias(\"naddress\"),f.sum('totamount').alias(\"balanceout\"))\n",
    "df_input_addresses_tag_grpby_user=df_input_addresses_tag_grpby_addr.groupby(df_input_addresses_tag_grpby_addr.user)\\\n",
    ".agg(f.count('address').alias(\"naddress\"),f.sum('totamount').alias(\"balancein\"))"
   ]
  },
  {
   "cell_type": "code",
   "execution_count": null,
   "metadata": {},
   "outputs": [],
   "source": [
    "#############################################################\n",
    "#           BALANCE ESTIMATION\n",
    "#############################################################\n",
    "# Retrive user in label dataframe that are not present into the input/output dataframe\n",
    "list_unique_input_user=df_input_addresses_tag_grpby_user.groupby(\"user\").agg(f.first(\"user\").alias(\"unique\")).drop(\"user\")\n",
    "list_unique_output_user=df_output_addresses_tag_grpby_user.groupby(\"user\").agg(f.first(\"user\").alias(\"unique\")).drop(\"user\")\n",
    "\n",
    "# Add retrived user into the input/output dataframe (with default parameters)\n",
    "user_out_toadd=list_unique_input_user.alias(\"a\").join(list_unique_output_user.alias(\"b\"),f.col(\"a.unique\")==f.col(\"b.unique\"),\"left_anti\")\n",
    "user_in_toadd=list_unique_output_user.alias(\"a\").join(list_unique_input_user.alias(\"b\"),f.col(\"a.unique\")==f.col(\"b.unique\"),\"left_anti\")\n",
    "\n",
    "#Add missing user in the input and output dataframe in order to calculate an estimation of the balance\n",
    "user_in_toadd = user_in_toadd.withColumn(\"naddress\", f.lit(0))\n",
    "user_in_toadd = user_in_toadd.withColumn(\"balancein\", f.lit(0))\n",
    "\n",
    "df_input_addresses_tag_grpby_user_filled = df_input_addresses_tag_grpby_user.union(user_in_toadd)\n",
    "\n",
    "user_out_toadd = user_out_toadd.withColumn(\"naddress\", f.lit(0))\n",
    "user_out_toadd = user_out_toadd.withColumn(\"balanceout\", f.lit(0))\n",
    "df_output_addresses_tag_grpby_user_filled = df_output_addresses_tag_grpby_user.union(user_out_toadd)\n",
    "\n",
    "\n",
    "df_user_balance=df_output_addresses_tag_grpby_user_filled.alias('a')\\\n",
    ".join(df_input_addresses_tag_grpby_user_filled.alias('b'),(f.col('b.user') == f.col('a.user')),\"leftouter\")\\\n",
    ".select(f.col('a.user'),f.col('a.balanceout'),f.col('b.balancein'))\n",
    "df_user_balance=df_user_balance.withColumn(\"balance\",f.col(\"balanceout\")-f.col(\"balancein\"))\\\n",
    ".sort(f.col(\"balance\").desc())\n",
    "df_user_balance = df_user_balance.withColumn(\"balance\",f.when(f.col(\"balance\")<0.00000001,0).otherwise(f.col(\"balance\")))"
   ]
  },
  {
   "cell_type": "markdown",
   "metadata": {},
   "source": [
    "%%%%%%%%%%%%%%%%%%%%%%%%%%%%%%%%%%%%%%%%%%%%%%%%%%%%%%%%%%%%%%%%%%"
   ]
  },
  {
   "cell_type": "code",
   "execution_count": null,
   "metadata": {},
   "outputs": [],
   "source": [
    "df_label2 = df_output_addresses_tag_grpby_addr.union(df_input_addresses_tag_grpby_addr)\n",
    "df_label2=df_label2.groupby(\"address\").agg(f.first(\"user\").alias(\"label\"))"
   ]
  },
  {
   "cell_type": "code",
   "execution_count": null,
   "metadata": {},
   "outputs": [],
   "source": [
    "#Prepare a basic dataframe with all transaction-user-address information\n",
    "df_transactions_general = df_transactions.alias('a').join(df_label2.alias('b'),f.col('a.address')==f.col('b.address'),\"leftouter\")\\\n",
    ".select(f.col(\"a.height\"),f.col(\"a.coinbase\"),f.col(\"a.timestamp\"),f.col(\"a.tx_id\"),f.col(\"a.tx_number\"),f.col(\"a.address\"),f.col(\"a.amount\"),f.col(\"a.vout_idx\"),f.col(\"a.vin_txid\"),f.col(\"a.vin_vout\"),f.col(\"b.label\").alias(\"outuser\")).cache()\n",
    "\n",
    "#Calculate the input amount of each transaction from each inuser\n",
    "df_transactions_general_join_amount = df_transactions_general.groupBy(\"tx_id\",\"address\",\"vout_idx\").agg(f.first(\"amount\").alias(\"unique_amount\"),f.first(\"outuser\").alias(\"inuser\"))\n",
    "\n",
    "#Join amount information with the basic dataframe information\n",
    "df_transactions_general_information = df_transactions_general.alias('a').join(df_transactions_general_join_amount.alias('b'),(f.col('a.vin_txid')==f.col('b.tx_id'))&(f.col('a.vin_vout')==f.col('b.vout_idx')),\"leftouter\")\\\n",
    ".select(f.col(\"a.height\"),f.col(\"a.coinbase\"),f.col(\"a.timestamp\"),f.col(\"a.tx_id\"),f.col(\"a.amount\"),f.col(\"a.outuser\"),f.col(\"a.address\"),f.col(\"a.vin_txid\"),f.col(\"a.vin_vout\"),f.col(\"b.unique_amount\").alias(\"amount_sent\"),f.col(\"b.address\").alias(\"address_sent\"),f.col(\"b.inuser\").alias(\"inuser_old\"))\n",
    "\n",
    "#Remove outuser with null field\n",
    "df_transactions_general_information = df_transactions_general_information.filter(f.col(\"outuser\").isNotNull())\n",
    "\n",
    "#Remove substitute inuser null information with Coinbase information\n",
    "df_transactions_general_information = df_transactions_general_information.withColumn(\"inuser\",f.when((f.col(\"inuser_old\").isNull())&(f.col(\"address\").isNotNull()),\"Coinbase\").otherwise(f.col(\"inuser_old\")))\n",
    "df_transactions_general_information = df_transactions_general_information.drop(f.col(\"inuser_old\")).cache()\n",
    "\n",
    "#Inuser-Outuser dataframe with count distinct transaction\n",
    "df_inuser_outuser_numtx = df_transactions_general_information.groupby(\"outuser\",\"inuser\").agg(f.countDistinct(\"tx_id\"))"
   ]
  },
  {
   "cell_type": "markdown",
   "metadata": {},
   "source": [
    "%%%%%%%%%%%%%%%%%%%%%%%%%%%%%%%%%%%%%%%%%%%%%%%%%%%%%%%%%%%%%%%%%"
   ]
  },
  {
   "cell_type": "code",
   "execution_count": null,
   "metadata": {},
   "outputs": [],
   "source": [
    "#############################################################\n",
    "#           COMPUTE ADDRESS FEATURE\n",
    "#############################################################\n",
    "\n",
    "address_feature=df_output_addresses_tag_grpby_addr.alias(\"a\")\\\n",
    ".join(df_input_addresses_tag_grpby_addr.alias(\"b\"),f.col(\"a.address\")==f.col(\"b.address\"),\"outer\")\\\n",
    ".select(f.col('a.address').alias(\"a1\"),f.col('b.address').alias(\"b1\"),f.col('a.user').alias(\"a2\"),f.col('b.user').alias(\"b2\"),f.col('a.count').alias(\"count_rec\"),f.col('a.totamount').alias(\"totamount_rec\"),f.col('b.count').alias(\"count_sent\"),f.col('b.totamount').alias(\"totamount_sent\"))\n",
    "address_feature=address_feature.withColumn(\"address\",f.when(f.col(\"a1\").isNotNull(),f.col(\"a1\")).otherwise(f.col(\"b1\")))\\\n",
    ".drop(\"a1\",\"b1\")\n",
    "address_feature=address_feature.withColumn(\"user\",f.when(f.col(\"a2\").isNotNull(),f.col(\"a2\")).otherwise(f.col(\"b2\")))\\\n",
    ".drop(\"a2\",\"b2\")\n",
    "address_feature=address_feature.fillna(0)\n",
    "address_feature=address_feature.withColumn(\"balance\",f.col(\"totamount_rec\")-f.col(\"totamount_sent\"))\n",
    "address_feature=address_feature.withColumn(\"unique\",f.when((f.col(\"count_rec\")<2)&(f.col(\"count_sent\")<2),1).otherwise(0))\n",
    "\n",
    "address_feature=address_feature.alias(\"a\")\\\n",
    ".join(df_output_addresses_tag_grpby_user.alias(\"b\"),f.col(\"a.user\")==f.col(\"b.user\"),\"leftouter\")\\\n",
    ".select(f.col('a.address'),f.col('a.user'),f.col('a.count_rec'),f.col(\"totamount_rec\"),f.col('a.count_sent'),f.col('a.totamount_sent'),f.col('a.balance'),f.col('a.unique'),f.col('b.naddress').alias('sibling'))\n",
    "address_feature=address_feature.fillna(0)"
   ]
  },
  {
   "cell_type": "code",
   "execution_count": null,
   "metadata": {},
   "outputs": [],
   "source": [
    "#############################################################\n",
    "#           STORE ADDRESS FEATURE IN HDFS\n",
    "#############################################################\n",
    "address_feature.write\\\n",
    ".format(\"com.databricks.spark.csv\")\\\n",
    ".option(\"header\", \"true\")\\\n",
    ".save(path+pathDir+\"/address_feature\")"
   ]
  },
  {
   "cell_type": "code",
   "execution_count": null,
   "metadata": {},
   "outputs": [],
   "source": [
    "#############################################################\n",
    "#           COMPUTE ENTITY FEATURE\n",
    "#############################################################\n",
    "entity_feature=df_user_balance.alias(\"a\")\\\n",
    ".join(df_output_addresses_tag_reduced.groupBy(\"user\").agg(f.countDistinct(\"address\").alias(\"add_recv\"),f.countDistinct(\"tx_id\").alias(\"count_recv\")).alias(\"b\"),f.col(\"a.user\")==f.col(\"b.user\"),\"leftouter\")\\\n",
    ".select(f.col('a.user'),f.col('a.balanceout'),f.col('a.balancein'),f.col('a.balance'),f.col('b.count_recv'),f.col('b.add_recv'))\n",
    "entity_feature=entity_feature.alias(\"a\")\\\n",
    ".join(df_input_addresses_tag_reduced.groupBy(\"user\").agg(f.countDistinct(\"address\").alias(\"add_sent\"),f.countDistinct(\"tx_id\").alias(\"count_sent\")).alias(\"b\"),f.col(\"a.user\")==f.col(\"b.user\"),\"leftouter\")\\\n",
    ".select(f.col('a.user'),f.col('a.balanceout').alias(\"balance_recv\"),f.col('a.balancein'),f.col('a.balance'),f.col('a.count_recv'),f.col('b.count_sent'),f.col('a.add_recv'),f.col('b.add_sent'))\n",
    "\n",
    "entity_feature=entity_feature.fillna(0,subset=[\"count_recv\",\"count_sent\"])"
   ]
  },
  {
   "cell_type": "code",
   "execution_count": null,
   "metadata": {},
   "outputs": [],
   "source": [
    "#############################################################\n",
    "#           STORE ENTITY FEATURE IN HDFS\n",
    "#############################################################\n",
    "entity_feature.write\\\n",
    ".format(\"com.databricks.spark.csv\")\\\n",
    ".option(\"header\", \"true\")\\\n",
    ".save(path+pathDir+\"/entity_feature\")"
   ]
  },
  {
   "cell_type": "code",
   "execution_count": null,
   "metadata": {},
   "outputs": [],
   "source": [
    "df_transactions_general_information.printSchema()"
   ]
  },
  {
   "cell_type": "code",
   "execution_count": null,
   "metadata": {},
   "outputs": [],
   "source": []
  },
  {
   "cell_type": "code",
   "execution_count": null,
   "metadata": {},
   "outputs": [],
   "source": [
    "#############################################################\n",
    "#           COMPUTE MOTIFS1 FEATURE\n",
    "#############################################################\n",
    "\n",
    "motifs_1 = df_transactions_general_information.groupBy(\"outuser\",\"inuser\",'tx_id').agg(f.countDistinct(\"address\").alias(\"address_recv_dist\"))\\\n",
    ".select(\"outuser\",\"inuser\",'tx_id',\"address_recv_dist\").cache()\n",
    "\n",
    "#Calculate out amount of each user (in-out) in each transactions\n",
    "amount_out_processing = df_transactions_general_information.groupBy(\"outuser\",\"inuser\",\"tx_id\",\"address\").agg(f.first(\"amount\").alias(\"amount_recv\"))\\\n",
    ".groupBy(\"outuser\",\"inuser\",\"tx_id\").agg(f.sum(\"amount_recv\").alias(\"amount_recv\"))\n",
    "amount_out_processing=amount_out_processing.fillna(\"Unknow\")\n",
    "#Calculate in amount of each user (in-out) in each transactions\n",
    "amount_in_processing = df_transactions_general_information.groupBy(\"outuser\",\"inuser\",\"tx_id\").agg(f.count(\"vin_txid\").alias(\"tx_sent\"),f.sum(\"amount_sent\").alias(\"amount_sent\"),f.countDistinct(\"address_sent\").alias(\"address_sent\"))\\\n",
    ".groupBy(\"outuser\",\"inuser\",\"tx_id\").agg(f.sum(\"tx_sent\").alias(\"tx_sent\"),f.sum(\"amount_sent\").alias(\"amount_sent\"),f.sum(\"address_sent\").alias(\"address_sent_dist\"))\n",
    "amount_in_processing=amount_in_processing.fillna(\"Unknow\")\n",
    "\n",
    "\n",
    "#Calculate out amount of each transactions\n",
    "amount_out_processing_tx = amount_out_processing.groupBy(\"tx_id\").agg(f.sum(\"amount_recv\").alias(\"total_recv_amount\"))\n",
    "#Calculate in amount of each transactions\n",
    "amount_in_processing_tx = df_transactions_general_information.groupBy(\"tx_id\",\"vin_txid\",\"vin_vout\").agg(f.first(\"amount_sent\").alias(\"amount_sent\"))\\\n",
    ".groupBy(\"tx_id\").agg(f.sum(\"amount_sent\").alias(\"total_sent_amount\"))\n",
    "amount_out_processing=amount_out_processing.fillna(\"Unknow\")\n",
    "#Calculate fee in each transaction\n",
    "fee_tx = amount_out_processing_tx.alias('a').join(amount_in_processing_tx.alias('b'), f.col(\"a.tx_id\")==f.col(\"b.tx_id\"))\\\n",
    ".select(\"a.tx_id\",\"total_recv_amount\",\"total_sent_amount\")\n",
    "fee_tx = fee_tx.withColumn(\"fees\",f.col(\"total_sent_amount\")-f.col(\"total_recv_amount\"))\n",
    "\n",
    "#Join all dataframe information to a unique dataframe for motifs-1\n",
    "motifs_1 = motifs_1.alias(\"a\").join(amount_out_processing.alias(\"b\"),(f.col(\"a.outuser\")==f.col(\"b.outuser\"))&(f.col(\"a.inuser\")==f.col(\"b.inuser\"))&(f.col(\"a.tx_id\")==f.col(\"b.tx_id\")))\\\n",
    ".select(\"a.outuser\",\"a.inuser\",\"a.tx_id\",\"address_recv_dist\",\"amount_recv\")\n",
    "motifs_1 = motifs_1.alias(\"a\").join(amount_in_processing.alias(\"b\"),(f.col(\"a.outuser\")==f.col(\"b.outuser\"))&(f.col(\"a.inuser\")==f.col(\"b.inuser\"))&(f.col(\"a.tx_id\")==f.col(\"b.tx_id\")))\\\n",
    ".select(\"a.outuser\",\"a.inuser\",\"a.tx_id\",\"a.address_recv_dist\",\"a.amount_recv\",\"b.tx_sent\",\"b.address_sent_dist\",\"amount_sent\")\n",
    "motifs_1=motifs_1.alias('a').join(motifs_1.groupBy(\"outuser\",\"inuser\").agg(f.countDistinct(\"tx_id\").alias(\"tx_recv_tot\")).fillna(\"Unknow\").alias('b'),(f.col(\"a.outuser\")==f.col(\"b.outuser\"))&(f.col(\"a.inuser\")==f.col(\"b.inuser\")))\\\n",
    ".select(\"a.outuser\",\"a.inuser\",\"a.tx_id\",\"a.address_recv_dist\",\"a.amount_recv\",\"a.tx_sent\",\"a.address_sent_dist\",\"a.amount_sent\",\"tx_recv_tot\")\n",
    "motifs_1=motifs_1.alias('a').join(fee_tx.alias('b'),(f.col(\"a.tx_id\")==f.col(\"b.tx_id\")))\\\n",
    ".select(\"a.outuser\",\"a.inuser\",\"a.tx_id\",\"a.address_recv_dist\",\"a.amount_recv\",\"a.tx_sent\",\"a.address_sent_dist\",\"a.amount_sent\",\"a.tx_recv_tot\",\"b.fees\")\n",
    "\n",
    "#Define relation between user loop or direct\n",
    "motifs_1 = motifs_1.withColumn(\"loop_in_out\", f.when(f.col(\"outuser\")==f.col(\"inuser\"),1).otherwise(0))\n",
    "motifs_1 = motifs_1.withColumn(\"direct_in_out\", f.when(f.col(\"outuser\")==f.col(\"inuser\"),0).otherwise(1)).cache()\n",
    "\n",
    "#Set to 0 where find null\n",
    "motifs_1 = motifs_1.fillna(0,subset=['amount_sent','fees'])"
   ]
  },
  {
   "cell_type": "code",
   "execution_count": null,
   "metadata": {},
   "outputs": [],
   "source": [
    "#############################################################\n",
    "#           STORE MOTIFS1 FEATURE IN HDFS\n",
    "#############################################################\n",
    "motifs_1.write\\\n",
    ".format(\"com.databricks.spark.csv\")\\\n",
    ".option(\"header\", \"true\")\\\n",
    ".save(path+pathDir+\"/motifs_1_part2\")"
   ]
  },
  {
   "cell_type": "code",
   "execution_count": null,
   "metadata": {},
   "outputs": [],
   "source": [
    "#############################################################\n",
    "#           COMPUTE MOTIFS2 FEATURE\n",
    "#############################################################\n",
    "\n",
    "#Create dataframe with all information without repeating, and remove \"null\" user (clone)\n",
    "df_transactions_general_join_motifs2 = df_transactions_general.groupBy(\"tx_id\",\"address\",\"vout_idx\").agg(f.first(\"amount\").alias(\"unique_amount\"),f.first(\"outuser\").alias(\"miduser\"),f.first(\"vin_txid\").alias(\"vin_txid\"),f.first(\"vin_vout\").alias(\"vin_vout\"))\n",
    "#df_transactions_general_join_motifs2 = df_transactions_general_join_motifs2.filter(f.col(\"miduser\").isNotNull())\n",
    "\n",
    "\n",
    "#Join the previuos dataframe with the dataframe general in order to obtain 1-motifs\n",
    "df_transactions_general_information2 = df_transactions_general.alias('a').join(df_transactions_general_join_motifs2.alias('b'),(f.col('a.vin_txid')==f.col('b.tx_id'))&(f.col('a.vin_vout')==f.col('b.vout_idx')),\"leftouter\")\\\n",
    ".select(f.col(\"a.height\"),f.col(\"a.coinbase\"),f.col(\"a.timestamp\"),f.col(\"a.tx_id\"),f.col(\"a.amount\"),f.col(\"a.outuser\"),f.col(\"a.address\"),f.col(\"a.vin_txid\").alias(\"tx_id_mid\"),f.col(\"a.vin_vout\").alias(\"vin_vout_idx_mid\"),f.col(\"b.vin_txid\").alias(\"tx_id_in\"),f.col(\"b.vin_vout\").alias(\"vin_vout_idx_in\"),f.col(\"b.unique_amount\").alias(\"amount_mid\"),f.col(\"b.address\").alias(\"address_mid\"),f.col(\"b.miduser\"))\n",
    "\n",
    "#Repeat the previuos operation in order to obtain 2-motifs\n",
    "df_transactions_general_info_deep = df_transactions_general_information2.alias('a').join(df_transactions_general_join_motifs2.alias('b'),(f.col('a.tx_id_in')==f.col('b.tx_id'))&(f.col('a.vin_vout_idx_in')==f.col('b.vout_idx')),\"leftouter\")\\\n",
    ".select(f.col(\"a.height\"),f.col(\"a.timestamp\"),f.col(\"a.tx_id\"),f.col(\"a.amount\"),f.col(\"a.outuser\"),f.col(\"a.address\"),f.col(\"a.tx_id_mid\"),f.col(\"a.vin_vout_idx_mid\"),f.col(\"a.amount_mid\"),f.col(\"a.address_mid\"),f.col(\"a.miduser\"),f.col(\"b.unique_amount\").alias(\"amount_sent\"),f.col(\"b.address\").alias(\"address_sent\"),f.col(\"b.miduser\").alias(\"inuser_old\"))\n",
    "\n",
    "#Remove null user\n",
    "df_transactions_general_info_deep = df_transactions_general_info_deep.filter(f.col(\"outuser\").isNotNull())\n",
    "df_transactions_general_info_deep = df_transactions_general_info_deep.filter(f.col(\"miduser\").isNotNull())\n",
    "\n",
    "#Change null user but with address with \"Coinbase\"\n",
    "df_transactions_general_info_deep = df_transactions_general_info_deep.withColumn(\"inuser\",f.when((f.col(\"inuser_old\").isNull())&(f.col(\"address\").isNotNull()),\"Coinbase\").otherwise(f.col(\"inuser_old\")))\n",
    "df_transactions_general_info_deep = df_transactions_general_info_deep.drop(f.col(\"inuser_old\"))\n",
    "\n",
    "#Creating unique dataframe with outuser->tx->miduser->tx->inuser\n",
    "motifs_2 = df_transactions_general_info_deep.groupBy(\"outuser\",\"miduser\",\"inuser\",\"tx_id\",\"tx_id_mid\")\\\n",
    ".agg(f.count(\"address\"))\\\n",
    ".select(\"outuser\",\"tx_id\",\"miduser\",\"tx_id_mid\",\"inuser\")\n",
    "\n",
    "motifs_2 = motifs_2.withColumn(\"loop_mid_out\", f.when(f.col(\"outuser\")==f.col(\"miduser\"),1).otherwise(0))\n",
    "motifs_2 = motifs_2.withColumn(\"loop_in_mid\", f.when(f.col(\"miduser\")==f.col(\"inuser\"),1).otherwise(0))\n",
    "motifs_2 = motifs_2.withColumn(\"loop_in_out\", f.when(f.col(\"outuser\")==f.col(\"inuser\"),1).otherwise(0))\n",
    "\n",
    "motifs_2 = motifs_2.withColumn(\"direct_mid_out\", f.when(f.col(\"outuser\")==f.col(\"miduser\"),0).otherwise(1))\n",
    "motifs_2 = motifs_2.withColumn(\"direct_in_mid\", f.when(f.col(\"miduser\")==f.col(\"inuser\"),0).otherwise(1))\n",
    "motifs_2 = motifs_2.withColumn(\"direct_in_out\", f.when(f.col(\"outuser\")==f.col(\"inuser\"),0).otherwise(1))\n",
    "\n",
    "#Encrich the previous dataframe with information from the motifs-1\n",
    "motifs_1_cloned = motifs_1.toDF(\"outuser\",\"inuser\",\"tx_id\",\"address_recv_dist\",\"amount_recv\",\"tx_sent\",\"address_sent_dist\",\"amount_sent\",\"tx_recv_tot\",\"fees\",\"loop_in_out\",\"direct_in_out\")\n",
    "motifs_2_cloned = motifs_2.toDF(\"outuser\",\"tx_id\",\"miduser\",\"tx_id_mid\",\"inuser\",\"loop_mid_out\",\"loop_in_mid\",\"loop_in_out\",\"direct_mid_out\",\"direct_in_mid\",\"direct_in_out\")\n",
    "\n",
    "#Rename correctly the column\n",
    "motifs_2_cloned= motifs_2_cloned.alias(\"a\").join(motifs_1_cloned.alias(\"b\"),(f.col(\"a.outuser\")==f.col(\"b.outuser\"))&(f.col(\"a.miduser\")==f.col(\"b.inuser\"))&(f.col(\"a.tx_id\")==f.col(\"b.tx_id\")),\"leftouter\")\\\n",
    ".select(\"a.outuser\",\"a.tx_id\",\"b.address_recv_dist\",\"b.amount_recv\",\"b.fees\",\"b.tx_sent\",\"b.address_sent_dist\",\"b.amount_sent\",\"a.miduser\",\"a.tx_id_mid\",\"a.inuser\",\"a.loop_mid_out\",\"a.loop_in_mid\",\"a.loop_in_out\",\"a.direct_mid_out\",\"a.direct_in_mid\",\"a.direct_in_out\")\\\n",
    ".withColumnRenamed(\"fees\",\"fee2\")\\\n",
    ".withColumnRenamed(\"address_recv_dist\",\"address_recv_dist_to_out\")\\\n",
    ".withColumnRenamed(\"amount_recv\",\"amount_recv_to_out\")\\\n",
    ".withColumnRenamed(\"tx_sent\",\"tx_sent_from_mid\")\\\n",
    ".withColumnRenamed(\"address_sent_dist\",\"address_sent_from_mid\")\\\n",
    ".withColumnRenamed(\"amount_sent\",\"amount_sent_from_mid\")\n",
    "\n",
    "motifs_2_cloned= motifs_2_cloned.alias(\"a\").join(motifs_1_cloned.alias(\"b\"),(f.col(\"a.inuser\")==f.col(\"b.inuser\"))&(f.col(\"a.miduser\")==f.col(\"b.outuser\"))&(f.col(\"a.tx_id_mid\")==f.col(\"b.tx_id\")),\"leftouter\")\\\n",
    ".select(\"a.outuser\",\"a.tx_id\",\"a.address_recv_dist_to_out\",\"a.amount_recv_to_out\",\"a.fee2\",\"a.tx_sent_from_mid\",\"a.address_sent_from_mid\",\"a.amount_sent_from_mid\",\"a.miduser\",\"a.tx_id_mid\",\"b.address_recv_dist\",\"b.amount_recv\",\"b.tx_sent\",\"b.address_sent_dist\",\"b.amount_sent\",\"b.fees\",\"a.inuser\",\"a.loop_mid_out\",\"a.loop_in_mid\",\"a.loop_in_out\",\"a.direct_mid_out\",\"a.direct_in_mid\",\"a.direct_in_out\")\\\n",
    ".withColumnRenamed(\"fees\",\"fee1\")\\\n",
    ".withColumnRenamed(\"address_recv_dist\",\"address_recv_to_mid\")\\\n",
    ".withColumnRenamed(\"amount_recv\",\"amount_recv_to_mid\")\\\n",
    ".withColumnRenamed(\"tx_sent\",\"tx_sent_from_in\")\\\n",
    ".withColumnRenamed(\"address_sent_dist\",\"address_sent_from_in\")\\\n",
    ".withColumnRenamed(\"amount_sent\",\"amount_sent_from_in\")"
   ]
  },
  {
   "cell_type": "code",
   "execution_count": null,
   "metadata": {},
   "outputs": [],
   "source": [
    "#############################################################\n",
    "#           STORE MOTIFS2 FEATURE IN HDFS\n",
    "#############################################################\n",
    "motifs_2_cloned.write\\\n",
    ".format(\"com.databricks.spark.csv\")\\\n",
    ".option(\"header\", \"true\")\\\n",
    ".save(path+pathDir+\"/motifs_2_part2\")"
   ]
  },
  {
   "cell_type": "code",
   "execution_count": null,
   "metadata": {},
   "outputs": [],
   "source": []
  }
 ],
 "metadata": {
  "kernelspec": {
   "display_name": "Python 3",
   "language": "python",
   "name": "python3"
  },
  "language_info": {
   "codemirror_mode": {
    "name": "ipython",
    "version": 3
   },
   "file_extension": ".py",
   "mimetype": "text/x-python",
   "name": "python",
   "nbconvert_exporter": "python",
   "pygments_lexer": "ipython3",
   "version": "3.5.2"
  }
 },
 "nbformat": 4,
 "nbformat_minor": 2
}
