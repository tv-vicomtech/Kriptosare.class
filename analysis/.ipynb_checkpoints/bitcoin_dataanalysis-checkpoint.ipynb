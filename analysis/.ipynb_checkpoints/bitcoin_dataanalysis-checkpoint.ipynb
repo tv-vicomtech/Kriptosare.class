{
 "cells": [
  {
   "cell_type": "code",
   "execution_count": 2,
   "metadata": {},
   "outputs": [],
   "source": [
    "import os\n",
    "os.environ['PYSPARK_SUBMIT_ARGS'] = '--packages com.datastax.spark:spark-cassandra-connector_2.11:2.3.0 --conf spark.cassandra.connection.host=10.200.5.28 pyspark-shell'\n",
    "\n",
    "import findspark\n",
    "findspark.init('/opt/spark')\n",
    "from pyspark import SparkContext\n",
    "sc = SparkContext()"
   ]
  },
  {
   "cell_type": "code",
   "execution_count": 3,
   "metadata": {},
   "outputs": [],
   "source": [
    "import pyspark\n",
    "from pyspark.sql import SQLContext\n",
    "import pyspark.sql.functions as f\n",
    "sqlContext = SQLContext(sc)"
   ]
  },
  {
   "cell_type": "code",
   "execution_count": null,
   "metadata": {},
   "outputs": [],
   "source": [
    "incoming_relations = sqlContext.read.format('com.databricks.spark.csv').options(header='true').load('../datasets/AITdata/btc_transformed_20180831-cluster_incoming_relations.csv')"
   ]
  },
  {
   "cell_type": "code",
   "execution_count": 27,
   "metadata": {},
   "outputs": [
    {
     "name": "stdout",
     "output_type": "stream",
     "text": [
      "+--------------------+------------+--------------------+--------------------+---------------+--------------------+\n",
      "|         dst_cluster|src_category|               value|         src_cluster|no_transactions|      src_properties|\n",
      "+--------------------+------------+--------------------+--------------------+---------------+--------------------+\n",
      "|1DxDvzCER6axruQhB...|           0|{satoshi: 1000000...|           301738356|              1|{no_addresses: 2,...|\n",
      "|1NZCwN7iqJioV7TAo...|           0|{satoshi: 1690000...|1Bsp6AaYUvxTdZhDR...|              1|{no_addresses: 1,...|\n",
      "|1EKsfuYVf5cLUZicc...|           0|{satoshi: 8117480...|14S6hA9KVotZfhH3b...|              1|{no_addresses: 1,...|\n",
      "|13Y644TT5k3jrnHBc...|           0|{satoshi: 2411484...|           308981652|              1|{no_addresses: 19...|\n",
      "|188c7Px9SB4GZtxvA...|           0|{satoshi: 1101672...|1KmgqaJeEJXMS1Et9...|              1|{no_addresses: 1,...|\n",
      "|           424619558|           0|{satoshi: 1026967...|           424651213|              1|{no_addresses: 2,...|\n",
      "|           424619558|           0|{satoshi: 314060,...|3EraqQxSR5Gnw37re...|              1|{no_addresses: 1,...|\n",
      "|1443CKB7kmRMThPiE...|           0|{satoshi: 1414200...|15ZEDDZXjR2qz2A1p...|              1|{no_addresses: 1,...|\n",
      "|           312991362|           0|{satoshi: 1915302...|1DZTnc1UCt4VTWeM9...|              1|{no_addresses: 1,...|\n",
      "|           312991362|           0|{satoshi: 1616295...|13QVkB7wTc7zamR2y...|              1|{no_addresses: 1,...|\n",
      "+--------------------+------------+--------------------+--------------------+---------------+--------------------+\n",
      "only showing top 10 rows\n",
      "\n"
     ]
    }
   ],
   "source": [
    "incoming_relations.show(n=10)"
   ]
  },
  {
   "cell_type": "code",
   "execution_count": 28,
   "metadata": {},
   "outputs": [],
   "source": [
    "outgoing_relations = sqlContext.read.format('com.databricks.spark.csv').options(header='true').load('../datasets/btc_transformed_20180831-cluster_outgoing_relations.csv')"
   ]
  },
  {
   "cell_type": "code",
   "execution_count": 8,
   "metadata": {},
   "outputs": [],
   "source": [
    "cluster_tags = sqlContext.read.format('com.databricks.spark.csv').options(header='true').load('../datasets/btc_transformed_20180831-cluster_tags.csv')"
   ]
  },
  {
   "cell_type": "code",
   "execution_count": 4,
   "metadata": {},
   "outputs": [],
   "source": [
    "cluster = sqlContext.read.format('com.databricks.spark.csv').options(header='true').load('../datasets/btc_transformed_20180831-cluster.csv')"
   ]
  },
  {
   "cell_type": "code",
   "execution_count": null,
   "metadata": {},
   "outputs": [],
   "source": [
    "incoming_relations.filter('dst_cluster==20436645').show()"
   ]
  },
  {
   "cell_type": "code",
   "execution_count": 12,
   "metadata": {},
   "outputs": [
    {
     "name": "stdout",
     "output_type": "stream",
     "text": [
      "+---------+--------------------+--------------------+--------------------+--------------+---------------+--------------------+--------------------+----------+\n",
      "|  cluster|             address|                 tag|              source|actor_category|    description|          source_uri|             tag_uri| timestamp|\n",
      "+---------+--------------------+--------------------+--------------------+--------------+---------------+--------------------+--------------------+----------+\n",
      "|127287796|1Kc6eKRYa5aWVkY1F...|             cantika|     blockchain.info|          null|Signed Messages|https://blockchai...|                null|1535712104|\n",
      "| 20436645|13nfHSPMeeqkcvk84...|    silkroad2-forums|Darknet Market Ar...| Darknet crawl|           null|https://www.gwern...|silkroad2-forums/...|1506722400|\n",
      "| 20436645|13nfHSPMeeqkcvk84...|silkroad2-forums-...|Darknet Market Ar...| Darknet crawl|           null|https://www.gwern...|silkroad2-forums-...|1506722400|\n",
      "| 20436645|1AdVABFi77GTdPL6N...|        Cavirtex.com|  walletexplorer.com|     Exchanges|           null|https://www.walle...|https://www.walle...|1535712688|\n",
      "| 20436645|1BKvpFaRdQBtoGXhP...|blackmarketreload...|Darknet Market Ar...| Darknet crawl|           null|https://www.gwern...|blackmarketreload...|1506722400|\n",
      "| 20436645|1BKvpFaRdQBtoGXhP...|    silkroad2-forums|Darknet Market Ar...| Darknet crawl|           null|https://www.gwern...|silkroad2-forums/...|1506722400|\n",
      "| 20436645|1BKvpFaRdQBtoGXhP...|silkroad2-forums-...|Darknet Market Ar...| Darknet crawl|           null|https://www.gwern...|silkroad2-forums-...|1506722400|\n",
      "| 20436645|1BKvpFaRdQBtoGXhP...|silkroad2-forums-...|Darknet Market Ar...| Darknet crawl|           null|https://www.gwern...|silkroad2-forums-...|1506722400|\n",
      "| 20436645|1DB81rDEEBdNrtfgH...|    silkroad2-forums|Darknet Market Ar...| Darknet crawl|           null|https://www.gwern...|silkroad2-forums/...|1506722400|\n",
      "| 20436645|1DB81rDEEBdNrtfgH...|silkroad2-forums-...|Darknet Market Ar...| Darknet crawl|           null|https://www.gwern...|silkroad2-forums-...|1506722400|\n",
      "+---------+--------------------+--------------------+--------------------+--------------+---------------+--------------------+--------------------+----------+\n",
      "only showing top 10 rows\n",
      "\n"
     ]
    }
   ],
   "source": [
    "cluster_tags.show(10)"
   ]
  },
  {
   "cell_type": "code",
   "execution_count": 14,
   "metadata": {},
   "outputs": [
    {
     "name": "stdout",
     "output_type": "stream",
     "text": [
      "+--------+--------------------+--------------------+------------+---------------+---------------+--------------------+--------------------+\n",
      "| cluster|            first_tx|             last_tx|no_addresses|no_incoming_txs|no_outgoing_txs|      total_received|         total_spent|\n",
      "+--------+--------------------+--------------------+------------+---------------+---------------+--------------------+--------------------+\n",
      "|20436645|{height: 129612, ...|{height: 522265, ...|       53102|          95426|          23931|{satoshi: 3530930...|{satoshi: 3530887...|\n",
      "+--------+--------------------+--------------------+------------+---------------+---------------+--------------------+--------------------+\n",
      "\n"
     ]
    }
   ],
   "source": [
    "cluster.filter(\"cluster==20436645\").show()"
   ]
  },
  {
   "cell_type": "code",
   "execution_count": 13,
   "metadata": {},
   "outputs": [
    {
     "name": "stdout",
     "output_type": "stream",
     "text": [
      "+--------+--------------------+--------------------+--------------------+--------------+-----------+--------------------+--------------------+----------+\n",
      "| cluster|             address|                 tag|              source|actor_category|description|          source_uri|             tag_uri| timestamp|\n",
      "+--------+--------------------+--------------------+--------------------+--------------+-----------+--------------------+--------------------+----------+\n",
      "|20436645|13nfHSPMeeqkcvk84...|    silkroad2-forums|Darknet Market Ar...| Darknet crawl|       null|https://www.gwern...|silkroad2-forums/...|1506722400|\n",
      "|20436645|13nfHSPMeeqkcvk84...|silkroad2-forums-...|Darknet Market Ar...| Darknet crawl|       null|https://www.gwern...|silkroad2-forums-...|1506722400|\n",
      "|20436645|1AdVABFi77GTdPL6N...|        Cavirtex.com|  walletexplorer.com|     Exchanges|       null|https://www.walle...|https://www.walle...|1535712688|\n",
      "|20436645|1BKvpFaRdQBtoGXhP...|blackmarketreload...|Darknet Market Ar...| Darknet crawl|       null|https://www.gwern...|blackmarketreload...|1506722400|\n",
      "|20436645|1BKvpFaRdQBtoGXhP...|    silkroad2-forums|Darknet Market Ar...| Darknet crawl|       null|https://www.gwern...|silkroad2-forums/...|1506722400|\n",
      "|20436645|1BKvpFaRdQBtoGXhP...|silkroad2-forums-...|Darknet Market Ar...| Darknet crawl|       null|https://www.gwern...|silkroad2-forums-...|1506722400|\n",
      "|20436645|1BKvpFaRdQBtoGXhP...|silkroad2-forums-...|Darknet Market Ar...| Darknet crawl|       null|https://www.gwern...|silkroad2-forums-...|1506722400|\n",
      "|20436645|1DB81rDEEBdNrtfgH...|    silkroad2-forums|Darknet Market Ar...| Darknet crawl|       null|https://www.gwern...|silkroad2-forums/...|1506722400|\n",
      "|20436645|1DB81rDEEBdNrtfgH...|silkroad2-forums-...|Darknet Market Ar...| Darknet crawl|       null|https://www.gwern...|silkroad2-forums-...|1506722400|\n",
      "+--------+--------------------+--------------------+--------------------+--------------+-----------+--------------------+--------------------+----------+\n",
      "\n"
     ]
    }
   ],
   "source": [
    "cluster_tags.filter(\"cluster==20436645\").show()"
   ]
  },
  {
   "cell_type": "code",
   "execution_count": null,
   "metadata": {},
   "outputs": [],
   "source": []
  }
 ],
 "metadata": {
  "kernelspec": {
   "display_name": "Python 3",
   "language": "python",
   "name": "python3"
  },
  "language_info": {
   "codemirror_mode": {
    "name": "ipython",
    "version": 3
   },
   "file_extension": ".py",
   "mimetype": "text/x-python",
   "name": "python",
   "nbconvert_exporter": "python",
   "pygments_lexer": "ipython3",
   "version": "3.5.2"
  }
 },
 "nbformat": 4,
 "nbformat_minor": 2
}
