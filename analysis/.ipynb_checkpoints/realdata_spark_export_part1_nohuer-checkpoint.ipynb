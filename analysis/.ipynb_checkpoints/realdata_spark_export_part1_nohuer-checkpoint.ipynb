{
 "cells": [
  {
   "cell_type": "markdown",
   "metadata": {},
   "source": [
    "### Import settings"
   ]
  },
  {
   "cell_type": "code",
   "execution_count": 1,
   "metadata": {},
   "outputs": [],
   "source": [
    "import os\n",
    "os.environ['PYSPARK_SUBMIT_ARGS'] = 'pyspark-shell'"
   ]
  },
  {
   "cell_type": "code",
   "execution_count": 2,
   "metadata": {},
   "outputs": [],
   "source": [
    "import findspark\n",
    "findspark.init('/opt/spark')\n",
    "from pyspark import SparkContext,SparkConf\n",
    "conf = (SparkConf()\n",
    "         .setMaster(\"spark://10.200.5.39:7077\")\n",
    "         .set(\"spark.executor.memory\",\"30g\")\n",
    "         .set('spark.driver.memory', '60G')\n",
    "         .set(\"spark.sql.autoBroadcastJoinThreshold\", \"-1\")\n",
    "         .setAppName(\"exportapp\"))\n",
    "sc = SparkContext(conf=conf)"
   ]
  },
  {
   "cell_type": "code",
   "execution_count": 3,
   "metadata": {},
   "outputs": [],
   "source": [
    "import pyspark\n",
    "import binascii\n",
    "from pyspark.sql import SQLContext\n",
    "from functools import reduce\n",
    "import pygraphviz\n",
    "import pyspark.sql.functions as f\n",
    "from IPython.display import Image\n",
    "from networkx.drawing.nx_pydot import write_dot\n",
    "sqlContext = SQLContext(sc)"
   ]
  },
  {
   "cell_type": "code",
   "execution_count": 4,
   "metadata": {},
   "outputs": [],
   "source": [
    "path = \"hdfs://10.200.5.25:9001/user/titanium/\""
   ]
  },
  {
   "cell_type": "code",
   "execution_count": 5,
   "metadata": {},
   "outputs": [],
   "source": [
    "#############################################################\n",
    "#            LOAD BLOCKS\n",
    "#############################################################\n",
    "#df_blocks_load = sqlContext.read\\\n",
    "#         .format(\"com.databricks.spark.csv\")\\\n",
    "#         .option(\"header\", \"true\")\\\n",
    "#     .option(\"inferSchema\", \"true\")\\\n",
    "#         .load(path+\"block/*.csv.gz\")\n"
   ]
  },
  {
   "cell_type": "code",
   "execution_count": 6,
   "metadata": {},
   "outputs": [],
   "source": [
    "#############################################################\n",
    "#            LOAD LABEL\n",
    "#############################################################\n",
    "df_label_load = sqlContext.read\\\n",
    "         .format(\"com.databricks.spark.csv\")\\\n",
    "         .option(\"header\", \"true\")\\\n",
    "         .option(\"inferSchema\", \"true\")\\\n",
    "         .load(path+\"walletexp_data/*.csv\")\n"
   ]
  },
  {
   "cell_type": "code",
   "execution_count": 7,
   "metadata": {},
   "outputs": [],
   "source": [
    "#############################################################\n",
    "#            LOAD TRANSACTIONS\n",
    "#############################################################\n",
    "df_transactions = sqlContext.read\\\n",
    "             .format(\"csv\")\\\n",
    "             .option(\"header\", \"true\")\\\n",
    "             .option(\"inferSchema\", \"true\")\\\n",
    "             .load(path+\"transaction/part2\")\n"
   ]
  },
  {
   "cell_type": "code",
   "execution_count": 50,
   "metadata": {},
   "outputs": [
    {
     "name": "stdout",
     "output_type": "stream",
     "text": [
      "+-----------+------+--------------------+--------+------+----------+--------------------+---------+-----------+--------+--------------------+--------------------+--------+\n",
      "|block_group|height|             tx_hash|coinbase|  size| timestamp|               tx_id|tx_number|     amount|vout_idx|             address|            vin_txid|vin_vout|\n",
      "+-----------+------+--------------------+--------+------+----------+--------------------+---------+-----------+--------+--------------------+--------------------+--------+\n",
      "|         19|190000|008DAA58386B9CC3E...|   false|129080|1342824816|008DAA58386B9CC3E...|        0| 2680640283|       0|1dice97ECuByXAvqX...|DD67E4B4E1DAABC6F...|       0|\n",
      "|         19|190000|030E731152EF47BE7...|   false|129080|1342824816|030E731152EF47BE7...|        0|   10265680|       0|1F7WsJ8EDTQz4Tavh...|1966B8191E9ACAD4D...|       0|\n",
      "|         19|190000|030E731152EF47BE7...|   false|129080|1342824816|030E731152EF47BE7...|        0|   20000000|       1|1dice8EMZmqKvrGE4...|1966B8191E9ACAD4D...|       0|\n",
      "|         19|190000|067901141B9AA603A...|   false|129080|1342824816|067901141B9AA603A...|        0|   12000000|       0|1dice9wcMu5hLF4g8...|883E75F4D1077F18B...|       0|\n",
      "|         19|190000|067901141B9AA603A...|   false|129080|1342824816|067901141B9AA603A...|        0|   12000000|       0|1dice9wcMu5hLF4g8...|2F32622893F6BBD5F...|       1|\n",
      "|         19|190000|067901141B9AA603A...|   false|129080|1342824816|067901141B9AA603A...|        0|     201045|       1|1ExYTsHGyhmZJswhb...|883E75F4D1077F18B...|       0|\n",
      "|         19|190000|067901141B9AA603A...|   false|129080|1342824816|067901141B9AA603A...|        0|     201045|       1|1ExYTsHGyhmZJswhb...|2F32622893F6BBD5F...|       1|\n",
      "|         19|190000|0AE89F2DFC81794D2...|   false|129080|1342824816|0AE89F2DFC81794D2...|        0|  673844390|       0|1A1sP96MzaKi1W8aj...|4EF8DBB30B2973694...|       1|\n",
      "|         19|190000|0AE89F2DFC81794D2...|   false|129080|1342824816|0AE89F2DFC81794D2...|        0|  673844390|       0|1A1sP96MzaKi1W8aj...|DC0A2609D2F00BF5A...|       0|\n",
      "|         19|190000|0AE89F2DFC81794D2...|   false|129080|1342824816|0AE89F2DFC81794D2...|        0|  673844390|       0|1A1sP96MzaKi1W8aj...|033A5C7695833A176...|       1|\n",
      "|         19|190000|0AE89F2DFC81794D2...|   false|129080|1342824816|0AE89F2DFC81794D2...|        0|10365533708|       1|18EndNi7X412uDvoA...|4EF8DBB30B2973694...|       1|\n",
      "|         19|190000|0AE89F2DFC81794D2...|   false|129080|1342824816|0AE89F2DFC81794D2...|        0|10365533708|       1|18EndNi7X412uDvoA...|DC0A2609D2F00BF5A...|       0|\n",
      "|         19|190000|0AE89F2DFC81794D2...|   false|129080|1342824816|0AE89F2DFC81794D2...|        0|10365533708|       1|18EndNi7X412uDvoA...|033A5C7695833A176...|       1|\n",
      "|         19|190000|0B4ED4E3630B35324...|   false|129080|1342824816|0B4ED4E3630B35324...|        0|   24651206|       0|1JqDGmLL7J1Z4GH38...|D5A8E50BBF6263B10...|       1|\n",
      "|         19|190000|0B4ED4E3630B35324...|   false|129080|1342824816|0B4ED4E3630B35324...|        0|   24651206|       0|1JqDGmLL7J1Z4GH38...|6143DF54EFFC1F982...|       1|\n",
      "|         19|190000|0B4ED4E3630B35324...|   false|129080|1342824816|0B4ED4E3630B35324...|        0|   24651206|       0|1JqDGmLL7J1Z4GH38...|05A220F4981F60BD0...|       1|\n",
      "|         19|190000|0B4ED4E3630B35324...|   false|129080|1342824816|0B4ED4E3630B35324...|        0|   24651206|       0|1JqDGmLL7J1Z4GH38...|9251CC04FE4C65784...|       1|\n",
      "|         19|190000|0B4ED4E3630B35324...|   false|129080|1342824816|0B4ED4E3630B35324...|        0|   16148791|       1|126vMmY1fyznpZiFT...|D5A8E50BBF6263B10...|       1|\n",
      "|         19|190000|0B4ED4E3630B35324...|   false|129080|1342824816|0B4ED4E3630B35324...|        0|   16148791|       1|126vMmY1fyznpZiFT...|6143DF54EFFC1F982...|       1|\n",
      "|         19|190000|0B4ED4E3630B35324...|   false|129080|1342824816|0B4ED4E3630B35324...|        0|   16148791|       1|126vMmY1fyznpZiFT...|05A220F4981F60BD0...|       1|\n",
      "+-----------+------+--------------------+--------+------+----------+--------------------+---------+-----------+--------+--------------------+--------------------+--------+\n",
      "only showing top 20 rows\n",
      "\n"
     ]
    }
   ],
   "source": [
    "df_transactions.show()"
   ]
  },
  {
   "cell_type": "code",
   "execution_count": null,
   "metadata": {},
   "outputs": [],
   "source": [
    "#blk_max = df_blocks_load.agg({\"height\": \"max\"}).collect()[0]\n",
    "#print(blk_max)\n",
    "#print(df_blocks_load.agg({\"height\": \"min\"}).collect()[0])"
   ]
  },
  {
   "cell_type": "code",
   "execution_count": null,
   "metadata": {},
   "outputs": [],
   "source": [
    "#blk_start=520000\n",
    "#blk_end=blk_max['max(height)']\n",
    "#df_blocks_load=df_blocks_load.where((f.col(\"height\")>=blk_start)&(f.col(\"height\")<=blk_end))\n",
    "#df_transactions=df_transactions.where((f.col(\"height\")>=blk_start)&(f.col(\"height\")<=blk_end))"
   ]
  },
  {
   "cell_type": "code",
   "execution_count": 30,
   "metadata": {},
   "outputs": [],
   "source": [
    "##############################################################\n",
    "#           OUTPUT ADDRESS DATAFRAME CREATION\n",
    "#############################################################\n",
    "df_output_addresses = df_transactions.select('address','vout_idx','amount','tx_id','tx_hash','size','coinbase','height')"
   ]
  },
  {
   "cell_type": "code",
   "execution_count": 31,
   "metadata": {},
   "outputs": [],
   "source": [
    "#############################################################\n",
    "#           REMOVE DUPLICATE OUTPUT DATAFRAME\n",
    "#############################################################\n",
    "df_output_addresses=df_output_addresses.dropDuplicates(['address','vout_idx','amount','tx_id'])"
   ]
  },
  {
   "cell_type": "code",
   "execution_count": 32,
   "metadata": {},
   "outputs": [],
   "source": [
    "#############################################################\n",
    "#   INPUT ADDRESS DATAFRAME CREATION AND REMOVE DUPLICATE\n",
    "#############################################################\n",
    "\n",
    "df_input_addresses=df_transactions.dropDuplicates([\"vin_txid\", \"vin_vout\"])\n",
    "df_input_addresses=df_input_addresses.alias('a')\\\n",
    ".join(df_output_addresses.alias('b'),(f.col('a.vin_txid') == f.col('b.tx_id')) & (f.col('a.vin_vout') == f.col('b.vout_idx')),\"leftouter\")\\\n",
    ".select(f.col('b.address'),f.col('a.vin_vout'),f.col('b.amount'),f.col('a.tx_id').alias('tx_id'),f.col('b.tx_hash'),f.col('b.coinbase'),f.col('b.height'),f.col('b.size'))"
   ]
  },
  {
   "cell_type": "code",
   "execution_count": 33,
   "metadata": {},
   "outputs": [],
   "source": [
    "#############################################################\n",
    "#           REMOVE DUPLICATE LABEL DATAFRAME\n",
    "#############################################################\n",
    "df_label=df_label_load.dropDuplicates()"
   ]
  },
  {
   "cell_type": "code",
   "execution_count": 34,
   "metadata": {},
   "outputs": [],
   "source": [
    "#############################################################\n",
    "#           JOIN ADDRESSES IN/OUT WITH LABEL DATAFRAME\n",
    "#############################################################\n",
    "df_output_addresses_tag=df_output_addresses.alias('a')\\\n",
    ".join(df_label.alias('b'),(f.col('a.address') == f.col('b.address')),\"leftouter\")\\\n",
    ".select(f.col('b.label').alias(\"user\"),f.col('a.address'),f.col('a.amount'),f.col('a.coinbase'),f.col('a.tx_id'),f.col('a.vout_idx'),f.col('a.height'))\n",
    "df_input_addresses_tag=df_input_addresses.alias('a')\\\n",
    ".join(df_label.alias('b'),(f.col('b.address') == f.col('a.address')),\"leftouter\")\\\n",
    ".select(f.col('b.label').alias(\"user\"),f.col('a.address'),f.col('a.amount'),f.col('a.coinbase'),f.col('a.tx_id'),f.col('a.vin_vout').alias('vout_idx'))"
   ]
  },
  {
   "cell_type": "code",
   "execution_count": 35,
   "metadata": {},
   "outputs": [],
   "source": [
    "same_address = df_output_addresses_tag.groupby(\"address\")\\\n",
    ".agg(f.count(\"address\").alias(\"rep\"),f.first(\"user\").alias(\"user\"))\\\n",
    ".select(\"rep\",\"address\",\"user\").sort(f.col(\"rep\").desc())"
   ]
  },
  {
   "cell_type": "code",
   "execution_count": 36,
   "metadata": {},
   "outputs": [
    {
     "name": "stdout",
     "output_type": "stream",
     "text": [
      "+------+--------------------+----+\n",
      "|   rep|             address|user|\n",
      "+------+--------------------+----+\n",
      "|520326|1dice8EMZmqKvrGE4...|null|\n",
      "|471725|1VayNert3x1KzbpzM...|null|\n",
      "|192513|1dice97ECuByXAvqX...|null|\n",
      "|149585|1dice9wcMu5hLF4g8...|null|\n",
      "| 83296|1dice6YgEVBf88erB...|null|\n",
      "| 80459|1dice7fUkz5h4z2wP...|null|\n",
      "| 60112|1dice7W2AicHosf5E...|null|\n",
      "| 44131|17qq5A3XKfrxpJRSC...|null|\n",
      "| 44030|19ngVyAav9JLE6gVf...|null|\n",
      "| 44028|14gZfnEn8Xd3ofkjr...|null|\n",
      "| 43957|1PG1DB6uKdT9uwPBo...|null|\n",
      "| 43956|13ARRimWwGhXt7ozf...|null|\n",
      "| 43923|1KyYkZ8wJ7ybvGWxS...|null|\n",
      "| 43902|1HZK8q2RhY718CZee...|null|\n",
      "| 43891|13c7aMAEoS1QkwK49...|null|\n",
      "| 43883|1PU4vjyEnMTVCmcoA...|null|\n",
      "| 43883|15tvWYtQq8A4m6N1Q...|null|\n",
      "| 43801|15svFBR3qDuXoqTR3...|null|\n",
      "| 43766|1MtPYAjqohLH5gMq3...|null|\n",
      "| 43750|1MBtmmai5T9kx5Lxh...|null|\n",
      "+------+--------------------+----+\n",
      "only showing top 20 rows\n",
      "\n"
     ]
    }
   ],
   "source": [
    "same_address.show()"
   ]
  },
  {
   "cell_type": "code",
   "execution_count": 37,
   "metadata": {},
   "outputs": [],
   "source": [
    "same_address = same_address.withColumn(\"user\",f.when(f.col(\"user\").isNull(),\\\n",
    "           f.monotonically_increasing_id()).otherwise(f.col(\"user\")))"
   ]
  },
  {
   "cell_type": "code",
   "execution_count": null,
   "metadata": {},
   "outputs": [],
   "source": [
    "df_output_addresses_tag= df_output_addresses_tag.alias('a')\\\n",
    ".join(same_address.alias('b'),['address'],'leftouter')\\\n",
    ".select(f.col(\"b.user\").alias(\"newuser\"),f.col(\"a.user\").alias(\"user\"),f.col('a.address'),f.col('a.amount'),f.col('a.coinbase'),f.col('a.tx_id'),f.col('a.vout_idx'),f.col('a.height'))\n",
    "df_output_addresses_tag=df_output_addresses_tag.withColumn(\"user\",f.when(f.col(\"user\").isNotNull(),f.col(\"user\")).otherwise(f.col(\"newuser\")))\n",
    "df_output_addresses_tag=df_output_addresses_tag.drop(\"newuser\")"
   ]
  },
  {
   "cell_type": "code",
   "execution_count": null,
   "metadata": {},
   "outputs": [],
   "source": [
    "df_input_addresses_tag= df_input_addresses_tag.alias('a')\\\n",
    ".join(same_address.alias('b'),['address'],'leftouter')\\\n",
    ".select(f.col(\"b.user\").alias(\"newuser\"),f.col(\"a.user\").alias(\"user\"),f.col('a.address'),f.col('a.amount'),f.col('a.coinbase'),f.col('a.tx_id'),f.col('a.vout_idx'))\n",
    "df_input_addresses_tag=df_input_addresses_tag.withColumn(\"user\",f.when(f.col(\"user\").isNotNull(),f.col(\"user\")).otherwise(f.col(\"newuser\")))\n",
    "df_input_addresses_tag=df_input_addresses_tag.drop(\"newuser\")"
   ]
  },
  {
   "cell_type": "code",
   "execution_count": 46,
   "metadata": {},
   "outputs": [],
   "source": [
    "################################################################\n",
    "#   MARK TRANSACTIONS AND USE LABELLED ADDRESS WHERE IS POSSIBLE\n",
    "################################################################\n",
    "tx_one_out=df_output_addresses.groupby(\"tx_id\").agg(f.count(\"address\").alias(\"cnt\"))\n",
    "tx_one_out=tx_one_out.where(f.col(\"cnt\")==1)\n",
    "tx_one_out = tx_one_out.withColumn(\"newuser\",f.concat(f.monotonically_increasing_id(),f.lit('_aaa')))"
   ]
  },
  {
   "cell_type": "code",
   "execution_count": 49,
   "metadata": {},
   "outputs": [
    {
     "name": "stdout",
     "output_type": "stream",
     "text": [
      "root\n",
      " |-- tx_id: string (nullable = true)\n",
      " |-- cnt: long (nullable = false)\n",
      " |-- user: string (nullable = false)\n",
      "\n"
     ]
    }
   ],
   "source": [
    "tx_one_out.printSchema()"
   ]
  },
  {
   "cell_type": "code",
   "execution_count": null,
   "metadata": {},
   "outputs": [],
   "source": [
    "tx_one_out= tx_one_out.alias('a')\\\n",
    ".join(df_input_addresses_tag.alias('b'),['tx_id'],'leftouter')\\\n",
    ".select(\"a.tx_id\",\"a.cnt\",\"a.newuser\",\"b.user\")\n"
   ]
  },
  {
   "cell_type": "code",
   "execution_count": null,
   "metadata": {},
   "outputs": [],
   "source": [
    "df_input_addresses_tag= df_input_addresses_tag.alias('a')\\\n",
    ".join(tx_one_out.alias('b'),['tx_id'],'leftouter')\\\n",
    ".select(f.col(\"b.user\").alias(\"newuser\"),f.col(\"a.user\").alias(\"user\"),f.col('a.address'),f.col('a.amount'),f.col('a.coinbase'),f.col('a.tx_id'),f.col('a.vout_idx'))\n",
    "df_input_addresses_tag=df_input_addresses_tag.withColumn(\"user\",f.when(f.col(\"user\").isNotNull(),f.col(\"user\")).otherwise(f.col(\"newuser\")))\n",
    "df_input_addresses_tag=df_input_addresses_tag.drop(\"newuser\")"
   ]
  },
  {
   "cell_type": "code",
   "execution_count": null,
   "metadata": {},
   "outputs": [],
   "source": [
    "same_address = same_address.join(tx_label,\"address\",\"leftouter\")\n",
    ".select(\"b.new_label\",\"b.user\",\"b.address\",\"b.amount\",\"b.coinbase\",\"a.tx_id\",\"b.vout_idx\",\"a.cnt\")"
   ]
  },
  {
   "cell_type": "code",
   "execution_count": 19,
   "metadata": {},
   "outputs": [],
   "source": [
    "#############################################################\n",
    "#   CHECK SAME ADDRESSES IN INPUT AND MARK THEM WITH LABEL\n",
    "#############################################################\n",
    "same_address = df_output_addresses_tag.groupby(\"address\")\\\n",
    ".agg(f.count(\"address\").alias(\"rep\"),f.first(\"user\").alias(\"user\"))\\\n",
    ".select(\"rep\",\"address\",\"user\").sort(f.col(\"rep\").desc())\n",
    "same_address = same_address.withColumn(\"user\",f.when(f.col(\"user\").isNull(),\\\n",
    "           f.monotonically_increasing_id()).otherwise(f.col(\"user\")))"
   ]
  },
  {
   "cell_type": "code",
   "execution_count": 20,
   "metadata": {},
   "outputs": [],
   "source": [
    "#############################################################\n",
    "#   JOIN ADDRESSES MARKED WITH THE INPUT DATAFRAME\n",
    "#############################################################\n",
    "df_output_addresses_tag = df_output_addresses_tag.alias('a')\\\n",
    ".join(same_address.alias('b'),f.col('a.address')==f.col('b.address'),'leftouter')\\\n",
    ".select(f.col(\"b.user\").alias(\"new_label\"),f.col('a.user'),f.col('a.address'),f.col('a.amount'),f.col('a.coinbase'),f.col('a.tx_id'),f.col('a.vout_idx'),f.col('a.height'))\n",
    "\n"
   ]
  },
  {
   "cell_type": "code",
   "execution_count": 22,
   "metadata": {},
   "outputs": [],
   "source": [
    "\n",
    "##############################################################################################################\n",
    "tx_label = tx_label.groupby(\"tx_id\").agg(f.min(\"user\").alias(\"new_label\"),f.count(\"address\").alias(\"naddress\"))\n",
    "tx_label = tx_label.withColumn(\"new_label\",f.when(f.col(\"new_label\").isNull(),\\\n",
    "           f.concat(f.monotonically_increasing_id(),f.lit('_aaa'))).otherwise(f.col(\"new_label\")))"
   ]
  },
  {
   "cell_type": "code",
   "execution_count": 23,
   "metadata": {},
   "outputs": [],
   "source": [
    "#############################################################\n",
    "#  REMOVE TRANSACTION WITH INPUT MORE THAN 100\n",
    "#############################################################\n",
    "df_input_addresses_tag_user = df_input_addresses_tag.toDF(\"user\",\"address\",\"amount\",\"coinbase\",\"tx_id\",\"vout_idx\")\n",
    "\n",
    "#############################################################\n",
    "#   JOIN THE TX LABEL WITH THE INPUT DATAFRAME\n",
    "#############################################################\n",
    "\n",
    "df_input_addresses_tag_user = df_input_addresses_tag_user.alias('a')\\\n",
    ".join(tx_label.alias('b'),['tx_id'],'leftouter')\\\n",
    ".select(f.col(\"b.new_label\").alias(\"user\"),f.col('a.address'),f.col('a.amount'),f.col('a.coinbase'),f.col('a.tx_id'),f.col('a.vout_idx'))\n",
    "\n",
    "df_input_addresses_tag_reduced=df_input_addresses_tag_user.where(f.col(\"user\").isNotNull())"
   ]
  },
  {
   "cell_type": "code",
   "execution_count": 24,
   "metadata": {},
   "outputs": [],
   "source": [
    "#############################################################\n",
    "#           LIST WITH ALL INPUTS LABEL\n",
    "#############################################################\n",
    "list_address_user = df_input_addresses_tag_reduced.groupby(\"address\").agg(f.first(\"user\").alias(\"label\"))"
   ]
  },
  {
   "cell_type": "code",
   "execution_count": 25,
   "metadata": {},
   "outputs": [],
   "source": [
    "#############################################################\n",
    "#       JOIN LIST INPUTS LABEL WITH OUTPUT ADDRESS\n",
    "#############################################################\n",
    "df_output_addresses_tag=df_output_addresses_tag.alias('a')\\\n",
    ".join(list_address_user.alias('b'),['address'],'leftouter')\\\n",
    ".select(f.col('b.label'),f.col('a.user'),f.col('a.address'),f.col('a.amount'),f.col('a.coinbase'),f.col('a.tx_id'),f.col('a.vout_idx'),f.col('a.height'))\n",
    "\n",
    "df_output_addresses_tag = df_output_addresses_tag.withColumn(\"user\",f.when(f.col(\"user\").isNull(),\\\n",
    "           f.col(\"label\")).otherwise(f.col(\"user\")))\\\n",
    "           .drop(f.col('label'))\n",
    "\n",
    "df_output_addresses_tag_original=df_output_addresses_tag"
   ]
  },
  {
   "cell_type": "code",
   "execution_count": 32,
   "metadata": {},
   "outputs": [],
   "source": [
    "#############################################################\n",
    "#       SELECT ONLY TRANSACTION WITH 2 OUTPUT (LOOKING FOR OTC)\n",
    "#############################################################\n",
    "df_output_addresses_tag_copy =df_output_addresses_tag.groupby(\"tx_id\").agg(f.count(\"address\").alias(\"cnt_out\"))\n",
    "df_output_addresses_tag_copy = df_output_addresses_tag_copy.where(f.col(\"cnt_out\")==2)"
   ]
  },
  {
   "cell_type": "code",
   "execution_count": 33,
   "metadata": {},
   "outputs": [],
   "source": [
    "#############################################################\n",
    "#       COUNT THE INPUT IN EACH TRANSACTION\n",
    "#############################################################\n",
    "tx_input_schema = df_input_addresses_tag.groupby(\"tx_id\").agg(f.count(\"address\").alias(\"cnt_in\"))\n",
    "\n",
    "df_output_addresses_tag_copy=df_output_addresses_tag_copy.alias('a')\\\n",
    ".join(tx_input_schema.alias('b'),['tx_id'],'leftouter')\\\n",
    ".select(f.col('b.cnt_in'),f.col('a.cnt_out'),f.col('a.tx_id'))\n",
    "\n",
    "df_output_addresses_tag_copy = df_output_addresses_tag_copy.where(f.col(\"cnt_in\")!=2)"
   ]
  },
  {
   "cell_type": "code",
   "execution_count": 34,
   "metadata": {},
   "outputs": [],
   "source": [
    "#############################################################\n",
    "#       REMOVE ALL OTHER TX IN!=2 OUT=2\n",
    "#############################################################\n",
    "df_output_addresses_tag=df_output_addresses_tag.alias('a')\\\n",
    ".join(df_output_addresses_tag_copy.alias('b'),['tx_id'],'rightouter')\\\n",
    ".select(f.col('b.cnt_in'),f.col('b.cnt_out'),f.col('a.user'),f.col('a.address'),f.col('a.amount'),f.col('a.coinbase'),f.col('b.tx_id'),f.col('a.vout_idx'),f.col('a.height'))"
   ]
  },
  {
   "cell_type": "code",
   "execution_count": 35,
   "metadata": {},
   "outputs": [],
   "source": [
    "first_show=df_output_addresses_tag.groupby(\"address\").agg(f.min(\"height\").alias(\"show\"))\n",
    "\n",
    "df_output_addresses_tag = df_output_addresses_tag.alias(\"a\")\\\n",
    ".join(first_show.alias('b'),['address'],'leftouter')\\\n",
    ".select(f.col('b.show'),f.col('a.cnt_in'),f.col('a.cnt_out'),f.col('a.user'),f.col('a.address'),f.col('a.amount'),f.col('a.coinbase'),f.col('a.tx_id'),f.col('a.vout_idx'),f.col('a.height'))\n",
    "\n",
    "df_output_addresses_tag=df_output_addresses_tag.withColumn(\"first\",f.when(f.col(\"show\")==f.col(\"height\"),1).otherwise(0)).drop(\"show\")"
   ]
  },
  {
   "cell_type": "code",
   "execution_count": 36,
   "metadata": {},
   "outputs": [],
   "source": [
    "input_tx = df_input_addresses_tag_user.groupby(\"tx_id\").agg(f.first(\"user\").alias(\"inuser\"))\n",
    "\n",
    "df_output_addresses_tag = df_output_addresses_tag.alias(\"a\")\\\n",
    ".join(input_tx.alias('b'),['tx_id'],'leftouter')\\\n",
    ".select(f.col('b.inuser'),f.col('a.first'),f.col('a.cnt_in'),f.col('a.cnt_out'),f.col('a.user'),f.col('a.address'),f.col('a.amount'),f.col('a.coinbase'),f.col('a.tx_id'),f.col('a.vout_idx'),f.col('a.height'))\n",
    "\n",
    "df_output_addresses_tag=df_output_addresses_tag.where(f.col(\"inuser\").isNotNull())"
   ]
  },
  {
   "cell_type": "code",
   "execution_count": 37,
   "metadata": {},
   "outputs": [],
   "source": [
    "df_output_addresses_tag = df_output_addresses_tag.withColumn(\"processing\",f.when(f.col(\"inuser\")==f.col(\"user\"),1).otherwise(0))\n",
    "df_processing = df_output_addresses_tag.groupby(\"tx_id\").agg(f.first(\"inuser\").alias(\"label\"),f.sum(\"processing\").alias(\"sum\"),f.sum(\"first\").alias(\"first_sum\"))\n",
    "df_processing = df_processing.where((f.col(\"sum\")<1)&(f.col(\"first_sum\")==1))\n",
    "df_output_addresses_tag = df_output_addresses_tag.alias('a')\\\n",
    ".join(df_processing.alias('b'),(f.col(\"a.tx_id\")==f.col(\"b.tx_id\"))&(f.col(\"first\")==1),\"leftouter\")\\\n",
    ".select(f.col('b.label'),f.col('a.first'),f.col('a.cnt_in'),f.col('a.cnt_out'),f.col('a.user'),f.col('a.address'),f.col('a.amount'),f.col('a.coinbase'),f.col('a.tx_id'),f.col('a.vout_idx'),f.col('a.height'))\n",
    "\n",
    "df_output_addresses_tag = df_output_addresses_tag.withColumn(\"user\",f.when(f.col(\"user\").isNull(),\\\n",
    "           f.col(\"label\")).otherwise(f.col(\"user\")))\\\n",
    "           .drop(f.col('label'))\n",
    "\n",
    "df_output_addresses_tag_reduced=df_output_addresses_tag.where(f.col(\"user\").isNotNull())"
   ]
  },
  {
   "cell_type": "code",
   "execution_count": null,
   "metadata": {},
   "outputs": [],
   "source": [
    "#############################################################\n",
    "#           STORE INPUT ADDRESSES FEATURE IN HDFS\n",
    "#############################################################\n",
    "df_input_addresses_tag_reduced.write\\\n",
    ".format(\"com.databricks.spark.csv\")\\\n",
    ".option(\"header\", \"true\")\\\n",
    ".save(path+\"part6/df_input_addresses_tag\")"
   ]
  },
  {
   "cell_type": "code",
   "execution_count": null,
   "metadata": {},
   "outputs": [],
   "source": [
    "#############################################################\n",
    "#           STORE OUTPUT ADDRESSES FEATURE IN HDFS\n",
    "#############################################################\n",
    "df_output_addresses_tag_reduced.write\\\n",
    ".format(\"com.databricks.spark.csv\")\\\n",
    ".option(\"header\", \"true\")\\\n",
    ".save(path+\"part6/df_output_addresses_tag\")"
   ]
  },
  {
   "cell_type": "code",
   "execution_count": null,
   "metadata": {},
   "outputs": [],
   "source": []
  }
 ],
 "metadata": {
  "kernelspec": {
   "display_name": "Python 3",
   "language": "python",
   "name": "python3"
  },
  "language_info": {
   "codemirror_mode": {
    "name": "ipython",
    "version": 3
   },
   "file_extension": ".py",
   "mimetype": "text/x-python",
   "name": "python",
   "nbconvert_exporter": "python",
   "pygments_lexer": "ipython3",
   "version": "3.5.2"
  }
 },
 "nbformat": 4,
 "nbformat_minor": 2
}
