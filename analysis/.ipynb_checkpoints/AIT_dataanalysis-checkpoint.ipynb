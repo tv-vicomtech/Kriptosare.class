{
 "cells": [
  {
   "cell_type": "code",
   "execution_count": 2,
   "metadata": {},
   "outputs": [],
   "source": [
    "import os\n",
    "os.environ['PYSPARK_SUBMIT_ARGS'] = '--packages com.datastax.spark:spark-cassandra-connector_2.11:2.3.0 --conf spark.cassandra.connection.host=10.200.5.28 pyspark-shell'\n",
    "\n",
    "import findspark\n",
    "findspark.init('/opt/spark')\n",
    "from pyspark import SparkContext\n",
    "sc = SparkContext()"
   ]
  },
  {
   "cell_type": "code",
   "execution_count": 3,
   "metadata": {},
   "outputs": [],
   "source": [
    "import pyspark\n",
    "from pyspark.sql import SQLContext\n",
    "import pyspark.sql.functions as f\n",
    "sqlContext = SQLContext(sc)"
   ]
  },
  {
   "cell_type": "code",
   "execution_count": 8,
   "metadata": {},
   "outputs": [],
   "source": [
    "incoming_relations = sqlContext.read.format('com.databricks.spark.csv').options(header='true').load('../datasets/AITdata/btc_transformed_20180831-cluster_incoming_relations.csv')\n",
    "outgoing_relations = sqlContext.read.format('com.databricks.spark.csv').options(header='true').load('../datasets/AITdata/btc_transformed_20180831-cluster_outgoing_relations.csv')\n",
    "cluster_tags = sqlContext.read.format('com.databricks.spark.csv').options(header='true').load('../datasets/AITdata/btc_transformed_20180831-cluster_tags.csv')\n",
    "cluster = sqlContext.read.format('com.databricks.spark.csv').options(header='true').load('../datasets/AITdata/btc_transformed_20180831-cluster.csv')"
   ]
  },
  {
   "cell_type": "code",
   "execution_count": 7,
   "metadata": {},
   "outputs": [
    {
     "name": "stdout",
     "output_type": "stream",
     "text": [
      "+----------------------------------+------------+--------------------------------------------------+-----------+---------------+--------------------------------------------------------------------+\n",
      "|dst_cluster                       |src_category|value                                             |src_cluster|no_transactions|src_properties                                                      |\n",
      "+----------------------------------+------------+--------------------------------------------------+-----------+---------------+--------------------------------------------------------------------+\n",
      "|1DxDvzCER6axruQhBo5TtMGwnbx2yk2Ft3|0           |{satoshi: 100000000, eur: 10610.57, usd: 12617.09}|301738356  |1              |{no_addresses: 2, total_received: 250660179, total_spent: 250660179}|\n",
      "+----------------------------------+------------+--------------------------------------------------+-----------+---------------+--------------------------------------------------------------------+\n",
      "only showing top 1 row\n",
      "\n"
     ]
    }
   ],
   "source": [
    "incoming_relations.show(1,False)"
   ]
  },
  {
   "cell_type": "code",
   "execution_count": 9,
   "metadata": {},
   "outputs": [
    {
     "name": "stdout",
     "output_type": "stream",
     "text": [
      "+----------------------------------+------------+---------------------------------------------+-----------+---------------+----------------------------------------------------------------------+\n",
      "|src_cluster                       |dst_category|value                                        |dst_cluster|no_transactions|dst_properties                                                        |\n",
      "+----------------------------------+------------+---------------------------------------------+-----------+---------------+----------------------------------------------------------------------+\n",
      "|1Pthrxq9MxVg3VVVGQa54QGVEkKxGvgazZ|0           |{satoshi: 14281270, eur: 135.17, usd: 146.18}|237795609  |1              |{no_addresses: 1, total_received: 5451318904, total_spent: 5451318904}|\n",
      "+----------------------------------+------------+---------------------------------------------+-----------+---------------+----------------------------------------------------------------------+\n",
      "only showing top 1 row\n",
      "\n"
     ]
    }
   ],
   "source": [
    "outgoing_relations.show(1,False)"
   ]
  },
  {
   "cell_type": "code",
   "execution_count": 10,
   "metadata": {},
   "outputs": [
    {
     "name": "stdout",
     "output_type": "stream",
     "text": [
      "+---------+----------------------------------+-------+---------------+--------------+---------------+-------------------------------+-------+----------+\n",
      "|cluster  |address                           |tag    |source         |actor_category|description    |source_uri                     |tag_uri|timestamp |\n",
      "+---------+----------------------------------+-------+---------------+--------------+---------------+-------------------------------+-------+----------+\n",
      "|127287796|1Kc6eKRYa5aWVkY1FjniSyog1XgqqkTrQC|cantika|blockchain.info|null          |Signed Messages|https://blockchain.info/de/tags|null   |1535712104|\n",
      "+---------+----------------------------------+-------+---------------+--------------+---------------+-------------------------------+-------+----------+\n",
      "only showing top 1 row\n",
      "\n"
     ]
    }
   ],
   "source": [
    "cluster_tags.show(1,False)"
   ]
  },
  {
   "cell_type": "code",
   "execution_count": 11,
   "metadata": {},
   "outputs": [
    {
     "name": "stdout",
     "output_type": "stream",
     "text": [
      "+---------+--------------------------------------------------------------------------------------------------------------------+--------------------------------------------------------------------------------------------------------------------+------------+---------------+---------------+---------------------------------------+---------------------------------------+\n",
      "|cluster  |first_tx                                                                                                            |last_tx                                                                                                             |no_addresses|no_incoming_txs|no_outgoing_txs|total_received                         |total_spent                            |\n",
      "+---------+--------------------------------------------------------------------------------------------------------------------+--------------------------------------------------------------------------------------------------------------------+------------+---------------+---------------+---------------------------------------+---------------------------------------+\n",
      "|225650369|{height: 453489, tx_hash: 0xfb174ad1cad63fc4b487d528fe1709a6423fad6742e895fbd3822823fba7e3ae, timestamp: 1487347939}|{height: 455507, tx_hash: 0xa6d486a28df0646580248c11941d57aee5c979dd45a50db12d4f6326b4473eee, timestamp: 1488502963}|3           |3              |1              |{satoshi: 123833, eur: 1.34, usd: 1.42}|{satoshi: 123833, eur: 1.49, usd: 1.57}|\n",
      "+---------+--------------------------------------------------------------------------------------------------------------------+--------------------------------------------------------------------------------------------------------------------+------------+---------------+---------------+---------------------------------------+---------------------------------------+\n",
      "only showing top 1 row\n",
      "\n"
     ]
    }
   ],
   "source": [
    "cluster.show(1,False)"
   ]
  },
  {
   "cell_type": "code",
   "execution_count": null,
   "metadata": {},
   "outputs": [],
   "source": []
  }
 ],
 "metadata": {
  "kernelspec": {
   "display_name": "Python 3",
   "language": "python",
   "name": "python3"
  },
  "language_info": {
   "codemirror_mode": {
    "name": "ipython",
    "version": 3
   },
   "file_extension": ".py",
   "mimetype": "text/x-python",
   "name": "python",
   "nbconvert_exporter": "python",
   "pygments_lexer": "ipython3",
   "version": "3.5.2"
  }
 },
 "nbformat": 4,
 "nbformat_minor": 2
}
